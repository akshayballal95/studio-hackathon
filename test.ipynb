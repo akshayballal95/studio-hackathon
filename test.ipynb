{
 "cells": [
  {
   "cell_type": "code",
   "execution_count": 2,
   "metadata": {},
   "outputs": [
    {
     "name": "stdout",
     "output_type": "stream",
     "text": [
      "{\n",
      "  \"query\": \"*[_type == 'shelter']{name, weekdayHours, weekendHours}\",\n",
      "  \"result\": [\n",
      "    {\n",
      "      \"name\": \"Information about The Hague World House\",\n",
      "      \"weekdayHours\": [\n",
      "        {\n",
      "          \"_key\": \"5a0c5de14ca7\",\n",
      "          \"day\": \"Monday & Thursday\",\n",
      "          \"hours\": \"10:00 - 14:30\",\n",
      "          \"requiresAppointment\": false\n",
      "        },\n",
      "        {\n",
      "          \"hours\": \"10:00 - 14:30 \",\n",
      "          \"requiresAppointment\": true,\n",
      "          \"_key\": \"5e7ae8f9a738\",\n",
      "          \"day\": \"Wednesday & Friday\"\n",
      "        }\n",
      "      ],\n",
      "      \"weekendHours\": \"Closed\"\n",
      "    }\n",
      "  ],\n",
      "  \"syncTags\": [\n",
      "    \"s1:xaoDpQ\"\n",
      "  ],\n",
      "  \"ms\": 2\n",
      "}\n"
     ]
    }
   ],
   "source": [
    "import requests\n",
    "import json\n",
    "\n",
    "# API endpoint URL\n",
    "url = \"https://jpt8guat.api.sanity.io/v2022-03-07/data/query/production\"\n",
    "\n",
    "# Query parameters\n",
    "params = {\n",
    "    \"query\": \"*[_type == 'shelter']{name, weekdayHours, weekendHours}\"  # This will fetch all documents\n",
    "}\n",
    "\n",
    "# Make the GET request\n",
    "response = requests.get(url, params=params)\n",
    "\n",
    "# Check if request was successful\n",
    "if response.status_code == 200:\n",
    "    # Parse the JSON response\n",
    "    data = response.json()\n",
    "    \n",
    "    # Pretty print the results\n",
    "    print(json.dumps(data, indent=2))\n",
    "else:\n",
    "    print(f\"Error: {response.status_code}\")\n",
    "    print(response.text)"
   ]
  },
  {
   "cell_type": "code",
   "execution_count": null,
   "metadata": {},
   "outputs": [],
   "source": [
    "from smolagents import OpenAIServerModel\n",
    "\n"
   ]
  }
 ],
 "metadata": {
  "kernelspec": {
   "display_name": "huggingface",
   "language": "python",
   "name": "python3"
  },
  "language_info": {
   "codemirror_mode": {
    "name": "ipython",
    "version": 3
   },
   "file_extension": ".py",
   "mimetype": "text/x-python",
   "name": "python",
   "nbconvert_exporter": "python",
   "pygments_lexer": "ipython3",
   "version": "3.11.9"
  }
 },
 "nbformat": 4,
 "nbformat_minor": 2
}
