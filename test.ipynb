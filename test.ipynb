{
 "cells": [
  {
   "cell_type": "code",
   "execution_count": 2,
   "metadata": {},
   "outputs": [
    {
     "name": "stdout",
     "output_type": "stream",
     "text": [
      "{\n",
      "  \"query\": \"*[_type == 'shelter']{name, weekdayHours, weekendHours}\",\n",
      "  \"result\": [\n",
      "    {\n",
      "      \"name\": \"Information about The Hague World House\",\n",
      "      \"weekdayHours\": [\n",
      "        {\n",
      "          \"_key\": \"5a0c5de14ca7\",\n",
      "          \"day\": \"Monday & Thursday\",\n",
      "          \"hours\": \"10:00 - 14:30\",\n",
      "          \"requiresAppointment\": false\n",
      "        },\n",
      "        {\n",
      "          \"hours\": \"10:00 - 14:30 \",\n",
      "          \"requiresAppointment\": true,\n",
      "          \"_key\": \"5e7ae8f9a738\",\n",
      "          \"day\": \"Wednesday & Friday\"\n",
      "        }\n",
      "      ],\n",
      "      \"weekendHours\": \"Closed\"\n",
      "    }\n",
      "  ],\n",
      "  \"syncTags\": [\n",
      "    \"s1:xaoDpQ\"\n",
      "  ],\n",
      "  \"ms\": 2\n",
      "}\n"
     ]
    }
   ],
   "source": [
    "import requests\n",
    "import json\n",
    "\n",
    "# API endpoint URL\n",
    "url = \"https://jpt8guat.api.sanity.io/v2022-03-07/data/query/production\"\n",
    "\n",
    "# Query parameters\n",
    "params = {\n",
    "    \"query\": \"*[_type == 'shelter']{name, weekdayHours, weekendHours}\"  # This will fetch all documents\n",
    "}\n",
    "\n",
    "# Make the GET request\n",
    "response = requests.get(url, params=params)\n",
    "\n",
    "# Check if request was successful\n",
    "if response.status_code == 200:\n",
    "    # Parse the JSON response\n",
    "    data = response.json()\n",
    "    \n",
    "    # Pretty print the results\n",
    "    print(json.dumps(data, indent=2))\n",
    "else:\n",
    "    print(f\"Error: {response.status_code}\")\n",
    "    print(response.text)"
   ]
  },
  {
   "cell_type": "code",
   "execution_count": 26,
   "metadata": {},
   "outputs": [
    {
     "name": "stdout",
     "output_type": "stream",
     "text": [
      "200\n",
      "{'transactionId': 'uXiNNg3XRtS3JnPDTI8MMG', 'results': [{'operation': 'create'}]}\n"
     ]
    }
   ],
   "source": [
    "import requests\n",
    "import json\n",
    "import uuid\n",
    "# Your Sanity API details\n",
    "PROJECT_ID = \"jpt8guat\"\n",
    "DATASET = \"production\"\n",
    "SANITY_TOKEN = \"sktaGlBnJe0N5SLwGHCsbCKrEse4kYylWzheTxC9TqIbqyt691sKIJQdGQj3KyEDySrOiLxcLo08raiZrAcpkF4d1G1d0EFPpUAitJu3jmndmQAyM02SnHxA4vr0uEKykaKqECYvDUO3ebRMdL3i991Es7LQlOsDJXqBNsj5AT6jkxXl4OMQ\"\n",
    "SANITY_URL = f\"https://{PROJECT_ID}.api.sanity.io/v2023-01-01/data/mutate/{DATASET}\"\n",
    "\n",
    "# Headers with Authorization\n",
    "headers = {\n",
    "    \"Content-Type\": \"application/json\",\n",
    "    \"Authorization\": f\"Bearer {SANITY_TOKEN}\" \n",
    "}\n",
    "\n",
    "# Data to push\n",
    "payload = {\n",
    "    \"mutations\": [\n",
    "        {\n",
    "            \"createOrReplace\": {\n",
    "                \"_id\": \"winter-shelter-delft\",  # Unique ID for the shelter\n",
    "                \"_type\": \"shelter\",\n",
    "                \"name\": \"Winter Shelter Delft\",\n",
    "                \"description\": \"The winter shelter in Delft provides temporary shelter during cold nights, offering warmth, meals, and basic facilities.\",\n",
    "                \"weekdayHours\": [\n",
    "                    {\"_key\": str(uuid.uuid4()), \"day\": \"Monday\", \"hours\": \"24 hours\", \"requiresAppointment\": False},\n",
    "                    {\"_key\": str(uuid.uuid4()), \"day\": \"Tuesday\", \"hours\": \"24 hours\", \"requiresAppointment\": False},\n",
    "                    {\"_key\": str(uuid.uuid4()), \"day\": \"Wednesday\", \"hours\": \"24 hours\", \"requiresAppointment\": False},\n",
    "                    {\"_key\": str(uuid.uuid4()), \"day\": \"Thursday\", \"hours\": \"24 hours\", \"requiresAppointment\": False},\n",
    "                    {\"_key\": str(uuid.uuid4()), \"day\": \"Friday\", \"hours\": \"24 hours\", \"requiresAppointment\": False},\n",
    "                    {\"_key\": str(uuid.uuid4()), \"day\": \"Saturday\", \"hours\": \"24 hours\", \"requiresAppointment\": False},\n",
    "                    {\"_key\": str(uuid.uuid4()), \"day\": \"Sunday\", \"hours\": \"24 hours\", \"requiresAppointment\": False}\n",
    "                ],\n",
    "                \"weekendHours\": \"24 hours\",\n",
    "                \"emergencyContact\": {\n",
    "                    \"_key\": str(uuid.uuid4()),\n",
    "                    \"phone\": \"+31 1 52 84 10 68\",\n",
    "                    \"hours\": \"24/7\"\n",
    "                },\n",
    "                \"website\": \"https://perspektief.nl/\",\n",
    "                \"email\": \"info@perspektief.nl\",\n",
    "                \"phoneNumbers\": [\n",
    "                    {\"_key\": str(uuid.uuid4()), \"type\": \"Call\", \"number\": \"+31 1 52 84 10 68\"}\n",
    "                ],\n",
    "                \"address\": {\n",
    "                    \"_key\": str(uuid.uuid4()),\n",
    "                    \"street\": \"Spoorsingel 8\",\n",
    "                    \"postalCode\": \"2613 BD\",\n",
    "                    \"city\": \"Delft\"\n",
    "                },\n",
    "                \"shelterType\": \"day\"\n",
    "            }\n",
    "        }\n",
    "    ]\n",
    "}\n",
    "\n",
    "# Send request\n",
    "response = requests.post(SANITY_URL, headers=headers, data=json.dumps(payload))\n",
    "\n",
    "# Print response\n",
    "print(response.status_code)\n",
    "print(response.json())\n",
    "\n"
   ]
  },
  {
   "cell_type": "code",
   "execution_count": null,
   "metadata": {},
   "outputs": [],
   "source": []
  }
 ],
 "metadata": {
  "kernelspec": {
   "display_name": "huggingface",
   "language": "python",
   "name": "python3"
  },
  "language_info": {
   "codemirror_mode": {
    "name": "ipython",
    "version": 3
   },
   "file_extension": ".py",
   "mimetype": "text/x-python",
   "name": "python",
   "nbconvert_exporter": "python",
   "pygments_lexer": "ipython3",
   "version": "3.11.9"
  }
 },
 "nbformat": 4,
 "nbformat_minor": 2
}
